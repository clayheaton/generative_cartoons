{
 "cells": [
  {
   "cell_type": "code",
   "execution_count": 33,
   "metadata": {
    "collapsed": true
   },
   "outputs": [],
   "source": [
    "from spacy.en import English\n",
    "import spacy.en\n",
    "import random"
   ]
  },
  {
   "cell_type": "code",
   "execution_count": 49,
   "metadata": {
    "collapsed": true
   },
   "outputs": [],
   "source": [
    "with open('punchlines.txt', 'r') as myfile:\n",
    "    data=myfile.read().lower().split('\\n')\n",
    "    for line in data:\n",
    "        line = line.replace(\"\\n\",\"\")"
   ]
  },
  {
   "cell_type": "code",
   "execution_count": 50,
   "metadata": {
    "collapsed": true
   },
   "outputs": [],
   "source": [
    "nlp = English(parser=False, tagger=True, entity=False)"
   ]
  },
  {
   "cell_type": "code",
   "execution_count": 51,
   "metadata": {
    "collapsed": false
   },
   "outputs": [],
   "source": [
    "punchline_structures = []\n",
    "for punchline in data:\n",
    "    tokens = nlp(punchline)\n",
    "    tags = []\n",
    "    for toke in tokens:\n",
    "        tags.append((toke,toke.tag_))\n",
    "    punchline_structures.append(tags)"
   ]
  },
  {
   "cell_type": "code",
   "execution_count": 52,
   "metadata": {
    "collapsed": false
   },
   "outputs": [],
   "source": [
    "# Store all words by part of speech identified by the tagger.\n",
    "all_words = {}\n",
    "for punchline in punchline_structures:\n",
    "    for word in punchline:\n",
    "        if word[1] not in all_words.keys():\n",
    "            all_words[word[1]] = []\n",
    "        all_words[word[1]].append(word[0])"
   ]
  },
  {
   "cell_type": "code",
   "execution_count": 53,
   "metadata": {
    "collapsed": false
   },
   "outputs": [
    {
     "data": {
      "text/plain": [
       "dict_keys(['JJS', 'VBZ', 'NNP', 'EX', 'LS', 'WDT', '.', 'PDT', 'DT', 'NNS', 'JJR', 'VBD', ',', 'RBR', 'IN', 'VBP', 'JJ', 'WRB', '``', 'PRP', 'HYPH', 'CC', 'CD', 'TO', 'NN', 'WP', 'MD', 'VBN', ':', 'UH', 'POS', 'RB', 'WP$', 'VBG', 'RP', \"''\", 'PRP$', 'VB'])"
      ]
     },
     "execution_count": 53,
     "metadata": {},
     "output_type": "execute_result"
    }
   ],
   "source": [
    "all_words.keys()"
   ]
  },
  {
   "cell_type": "code",
   "execution_count": 54,
   "metadata": {
    "collapsed": false
   },
   "outputs": [],
   "source": [
    "structures = []\n",
    "for punchline_structure in punchline_structures:\n",
    "    s = []\n",
    "    for word in punchline_structure:\n",
    "        s.append(word[1])\n",
    "    structures.append(s)"
   ]
  },
  {
   "cell_type": "code",
   "execution_count": 84,
   "metadata": {
    "collapsed": false
   },
   "outputs": [
    {
     "name": "stdout",
     "output_type": "stream",
     "text": [
      "Dick - a pieces.\n",
      "But counting jackass has you good.\n",
      "Voice - text. often.\n",
      "You do such the legal question - it can here see you more down. I have locally trust to literally, in plane.\n",
      "The papa at the good pop is that top - earth family.\n",
      "I were you brought a not divine curvature but natural daguerreotypes, but we back was back eat that portfolio.\n",
      "A little darling on the dog for question but the little warning with the text with breasts left supposed up, and the freshdirect hunter as the flag to chants did a thing at a kid.\n",
      "You have not a beautiful research disappeared of a place for bone, literally the guy someone.\n",
      "Follow the course and blow a worker when I check.\n",
      "Them may somewhere say our warning is always not counting a papa dinner.\n",
      "Another glad game of kitsch.\n",
      "Someone's close bigger about we do.\n",
      "Apartment - support gonna fourteen pig. better perfect except driveway on friends?\n",
      "It is sippy that twinkling an dick.\n",
      "We are alone your ups would not look I using nice speech? I become choking months.\n",
      "Where are a people else great full invitation.\n",
      "Home - take not six monday. just free than channel of wishes.\n",
      "Am you sell phone which is not do nice never.\n",
      "You go been well little with starting - parents that left to peter relationships just go a intensity of legs.\n",
      "But have ago peter really about you do moved a bricks just.\n",
      "Have we eaten my first guy.\n",
      "Miracle - creep locally one dog. again sorry if right to months.\n",
      "Moby used, your relationships dating.\n",
      "O.K., story, gift to scream.\n",
      "With has a regulated course out their body they forgot I did here slam.\n",
      "Their speech is long how I left it that it meant of raise, about, of mommy, of their grant, mr. fashion?\n",
      "I will often go their rent is backward exactly seeing these invitation pin.\n",
      "When want the dots exactly drunk divine sire?\n",
      "Them come gigantic when I am ancient, and trust that anyone of he backward of the course dip and keep up?\n",
      "Food family: wherever is the apartment. why hates the goal?\n",
      "Her haul little - when you meant \" legal \" piano, I did you had big?\n",
      "If lacks a red family to their grant I smiled I brought meticulously sell.\n",
      "Who wants to help I in a deductions a pay.\n",
      "I am endowed not ugly on going - ups which had to do days not like a report of characters.\n",
      "Love the the hungry one friends.\n",
      "And with I would sell, your early intensity is sourced - arms first, for your hotel?\n",
      "A raton of the handsome trance is the natural - papa network.\n",
      "I do when you identify it to the interesting.\n",
      "Him can always stop your self does quite instead starting a grant mom.\n",
      "I am little at our miracle.\n",
      "Yes, but who I not are to creep does help parents ' arms.\n",
      "A enough flag for food - thinking is there enters that big dip, damage?\n",
      "And so I can have, your little starfish is sourced: dots not, at your hotel.\n",
      "Font - jackass ! backward.\n",
      "Get a that responsible one things.\n",
      "And in the handsome one ten paste I will support having your portfolio.\n",
      "Hunter were... his sticks grilling.\n",
      "But excuse damn be not on you have connected these books not.\n",
      "I am not wearing how twently just, on off the beer off a anyone?\n",
      "It do eaten thinking, just they can do to have an by their paste not that their kid.\n"
     ]
    }
   ],
   "source": [
    "def random_punchline():\n",
    "    # Pick a random structure.\n",
    "    struct = random.choice(structures)\n",
    "    punchline = []\n",
    "    for pos in struct:\n",
    "        word = random.choice(all_words[pos])\n",
    "        punchline.append(word)\n",
    "    \n",
    "    try:\n",
    "        punchline[0] = str(punchline[0]).title()\n",
    "    except:\n",
    "        print(punchline)\n",
    "        print(\"PROBLEM ABOVE\")\n",
    "        return(\"PROBLEM\")\n",
    "        \n",
    "    pline = \" \".join([str(w) for w in punchline])\n",
    "    pline = pline.replace(\"i are\",\"i am\")\n",
    "    pline = pline.replace(\"I are\",\"I am\")\n",
    "    pline = pline.replace(\"I is\",\"I am\")\n",
    "    pline = pline.replace(\"i is\",\"I am\")\n",
    "    pline = pline.replace(\"you am\",\"you are\")\n",
    "    pline = pline.replace(\"You am\",\"You are\")\n",
    "    pline = pline.replace(\"you is\",\"you are\")\n",
    "    pline = pline.replace(\"You am\",\"You are\")\n",
    "    pline = pline.replace(\"are n't\",\"aren't\")\n",
    "    pline = pline.replace(\" ?\",\"?\")\n",
    "    pline = pline.replace(\" .\",\".\")\n",
    "    pline = pline.replace(\" ,\",\",\")\n",
    "    pline = pline.replace(\" :\",\":\")\n",
    "    pline = pline.replace(\" ;\",\";\")\n",
    "    pline = pline.replace(\" i \",\" I \")\n",
    "    pline = pline.replace(\" i,\",\" I,\")\n",
    "    pline = pline.replace(\" i.\",\" I.\")\n",
    "    pline = pline.replace(\" 's\",\"'s\")\n",
    "    return pline\n",
    "    \n",
    "for n in range(50):\n",
    "    print(random_punchline())"
   ]
  },
  {
   "cell_type": "code",
   "execution_count": null,
   "metadata": {
    "collapsed": true
   },
   "outputs": [],
   "source": []
  },
  {
   "cell_type": "code",
   "execution_count": null,
   "metadata": {
    "collapsed": true
   },
   "outputs": [],
   "source": []
  }
 ],
 "metadata": {
  "kernelspec": {
   "display_name": "Python 3",
   "language": "python",
   "name": "python3"
  },
  "language_info": {
   "codemirror_mode": {
    "name": "ipython",
    "version": 3
   },
   "file_extension": ".py",
   "mimetype": "text/x-python",
   "name": "python",
   "nbconvert_exporter": "python",
   "pygments_lexer": "ipython3",
   "version": "3.5.1"
  }
 },
 "nbformat": 4,
 "nbformat_minor": 0
}
