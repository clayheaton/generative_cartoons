{
 "cells": [
  {
   "cell_type": "code",
   "execution_count": 20,
   "metadata": {
    "collapsed": true
   },
   "outputs": [],
   "source": [
    "from spacy.en import English\n",
    "import spacy.en\n",
    "import random\n",
    "import json"
   ]
  },
  {
   "cell_type": "code",
   "execution_count": 21,
   "metadata": {
    "collapsed": true
   },
   "outputs": [],
   "source": [
    "with open('punchlines.txt', 'r') as myfile:\n",
    "    data=myfile.read().lower().split('\\n')\n",
    "    for line in data:\n",
    "        line = line.replace(\"\\n\",\"\")"
   ]
  },
  {
   "cell_type": "code",
   "execution_count": 22,
   "metadata": {
    "collapsed": true
   },
   "outputs": [],
   "source": [
    "nlp = English(parser=False, tagger=True, entity=False)"
   ]
  },
  {
   "cell_type": "code",
   "execution_count": 23,
   "metadata": {
    "collapsed": false
   },
   "outputs": [],
   "source": [
    "punchline_structures = []\n",
    "for punchline in data:\n",
    "    tokens = nlp(punchline)\n",
    "    tags = []\n",
    "    for toke in tokens:\n",
    "        tags.append((toke,toke.tag_))\n",
    "    punchline_structures.append(tags)"
   ]
  },
  {
   "cell_type": "code",
   "execution_count": 24,
   "metadata": {
    "collapsed": false
   },
   "outputs": [],
   "source": [
    "# Store all words by part of speech identified by the tagger.\n",
    "all_words = {}\n",
    "for punchline in punchline_structures:\n",
    "    for word in punchline:\n",
    "        if word[1] not in all_words.keys():\n",
    "            all_words[word[1]] = []\n",
    "        all_words[word[1]].append(word[0])"
   ]
  },
  {
   "cell_type": "code",
   "execution_count": 25,
   "metadata": {
    "collapsed": false
   },
   "outputs": [
    {
     "data": {
      "text/plain": [
       "dict_keys(['RB', 'NNS', 'JJR', 'POS', 'PDT', 'MD', \"''\", 'WP$', 'DT', '.', 'CC', 'TO', 'PRP', '``', 'VBG', 'VBP', ':', 'VB', 'PRP$', 'WRB', ',', 'JJ', 'NN', 'LS', 'VBN', 'WDT', 'VBD', 'RBR', 'JJS', 'IN', 'VBZ', 'WP', 'UH', 'HYPH', 'CD', 'EX', 'RP', 'NNP'])"
      ]
     },
     "execution_count": 25,
     "metadata": {},
     "output_type": "execute_result"
    }
   ],
   "source": [
    "all_words.keys()"
   ]
  },
  {
   "cell_type": "code",
   "execution_count": 26,
   "metadata": {
    "collapsed": false
   },
   "outputs": [],
   "source": [
    "structures = []\n",
    "for punchline_structure in punchline_structures:\n",
    "    s = []\n",
    "    for word in punchline_structure:\n",
    "        s.append(word[1])\n",
    "    structures.append(s)"
   ]
  },
  {
   "cell_type": "code",
   "execution_count": 27,
   "metadata": {
    "collapsed": false
   },
   "outputs": [
    {
     "name": "stdout",
     "output_type": "stream",
     "text": [
      "What has to like I of a ups the hatfield.\n",
      "Liz, you get I the carpet, call I.\n",
      "I will meticulously watch I the home, but I can eat I a not happened lot.\n",
      "He am such the little invitation - it should damn give you more better. I am together keep as not, before pig.\n",
      "But using place is I gigantic.\n",
      "I go pretty the passionate pig been than the flour with how, not the portfolio watermelon.\n",
      "Wrong is the anything when, when me are really, her are to peter they for - with you are connected at that ten - guy ball by jeb portfolio.\n",
      "That looks more sippy - my daguerreotypes and \" novel news \".\n",
      "But taking cholesterol is you early.\n",
      "If your base, anyone.\n",
      "You are using the check your hungry lines, now your vehicles.\n",
      "Oh, but who go you support except game what is billy going.\n",
      "Help me, it do wearing to last not bad you forgot up nice food.\n",
      "Your course is properly when you thought it on I did in scene, with, of base, in our issue, yes. house.\n",
      "Am a the bottomless one children !\n",
      "Your die is billy when it smiled they of I smiled of raton, to, like portfolio, in your way, oh? monday.\n",
      "A house before that ancient flay is no ancient - plane fashion.\n",
      "The harmless resume of singularity.\n",
      "That is from anything on these man - metal can you be right exactly literally into now now.\n",
      "They had to do he, jeb. you assumed wearing parents.\n",
      "Of your notice, wrong.\n",
      "The mayo at this natural piano cooks a freshdirect - piano man.\n",
      "Keep a a divine one eyes.\n",
      "For this ex, you are twently meticulously just extra.\n",
      "And mind really hold secretly in I am eaten a children just.\n",
      "I come full their pieces can maybe remember you repairing industrial body. it are watching parents?\n",
      "A new place for kitsch I know to have with his speech cut up.\n",
      "We can backward go a on papa cut there that the co monday, but you are forgetting a head of our full die?\n",
      "And on a enough one ten relationships I would sell thinking their itemized.\n",
      "Oh be better no big martini into the more racist lot.\n",
      "Do a past but ignore the place when he do.\n",
      "I am sorry where we want first, and be the notice on him there on a gravity raise and be up.\n",
      "A on my mission ups of this past with home.\n",
      "Mind why I were to stop industrial first things unless your outtakes.\n",
      "The beautiful resume of bone.\n",
      "The wrong brother like flay I do to blow in your mayo did along.\n",
      "Very keep this boarder where we are little and gigantic.\n",
      "We take the having natural martini. a worst plane cooks with that full home.\n",
      "I am the hotel... the rumors am touching up.\n",
      "I can point about your guy by I have the speech.\n",
      "So I check a pig of I.\n",
      "Interesting. you are for a uncle.\n",
      "What is to stop you to the people the time.\n",
      "My curvature is easy how I forgot you into you went in home, in, to mayo, that your wrong, liz. book?\n",
      "Yes, I do I a voice, appreciate it?\n",
      "But seeing couple is it top.\n",
      "The next insomnia of this dip on time and a next piano if the text for sticks used been in, and the little phone for the self on breasts used this how from a invitation.\n",
      "In a question, you are now not not drunk.\n",
      "O.K., pig, problem to see?\n",
      "It enters so little.\n"
     ]
    }
   ],
   "source": [
    "def random_punchline():\n",
    "    # Pick a random structure.\n",
    "    struct = random.choice(structures)\n",
    "    punchline = []\n",
    "    for pos in struct:\n",
    "        word = random.choice(all_words[pos])\n",
    "        punchline.append(word)\n",
    "    \n",
    "    try:\n",
    "        punchline[0] = str(punchline[0]).title()\n",
    "    except:\n",
    "        print(punchline)\n",
    "        print(\"PROBLEM ABOVE\")\n",
    "        return(\"PROBLEM\")\n",
    "        \n",
    "    pline = \" \".join([str(w) for w in punchline])\n",
    "    pline = pline.replace(\"i are\",\"i am\")\n",
    "    pline = pline.replace(\"I are\",\"I am\")\n",
    "    pline = pline.replace(\"I is\",\"I am\")\n",
    "    pline = pline.replace(\"i is\",\"I am\")\n",
    "    pline = pline.replace(\"you am\",\"you are\")\n",
    "    pline = pline.replace(\"You am\",\"You are\")\n",
    "    pline = pline.replace(\"you is\",\"you are\")\n",
    "    pline = pline.replace(\"You am\",\"You are\")\n",
    "    pline = pline.replace(\"are n't\",\"aren't\")\n",
    "    pline = pline.replace(\" ?\",\"?\")\n",
    "    pline = pline.replace(\" .\",\".\")\n",
    "    pline = pline.replace(\" ,\",\",\")\n",
    "    pline = pline.replace(\" :\",\":\")\n",
    "    pline = pline.replace(\" ;\",\";\")\n",
    "    pline = pline.replace(\" i \",\" I \")\n",
    "    pline = pline.replace(\" i,\",\" I,\")\n",
    "    pline = pline.replace(\" i.\",\" I.\")\n",
    "    pline = pline.replace(\" 's\",\"'s\")\n",
    "    return pline\n",
    "    \n",
    "for n in range(50):\n",
    "    print(random_punchline())"
   ]
  },
  {
   "cell_type": "code",
   "execution_count": 29,
   "metadata": {
    "collapsed": true
   },
   "outputs": [],
   "source": [
    "with open(\"structures.json\",'w') as f:\n",
    "    json.dump(structures,f)"
   ]
  },
  {
   "cell_type": "code",
   "execution_count": 34,
   "metadata": {
    "collapsed": false
   },
   "outputs": [],
   "source": [
    "str_all_words = {}\n",
    "for key in all_words.keys():\n",
    "    str_all_words[key] = []\n",
    "    for word in all_words[key]:\n",
    "        str_all_words[key].append(str(word))"
   ]
  },
  {
   "cell_type": "code",
   "execution_count": 35,
   "metadata": {
    "collapsed": true
   },
   "outputs": [],
   "source": [
    "with open(\"vocabulary.json\",'w') as f:\n",
    "    json.dump(str_all_words,f)"
   ]
  },
  {
   "cell_type": "code",
   "execution_count": 36,
   "metadata": {
    "collapsed": false
   },
   "outputs": [
    {
     "data": {
      "text/plain": [
       "dict_keys(['RB', 'NNS', 'JJR', 'POS', 'PDT', 'MD', \"''\", 'WP$', 'DT', '.', 'CC', 'TO', 'PRP', '``', 'VBG', 'VBP', ':', 'VB', 'PRP$', 'WRB', ',', 'JJ', 'NN', 'LS', 'VBN', 'WDT', 'VBD', 'RBR', 'JJS', 'IN', 'VBZ', 'WP', 'UH', 'HYPH', 'CD', 'EX', 'RP', 'NNP'])"
      ]
     },
     "execution_count": 36,
     "metadata": {},
     "output_type": "execute_result"
    }
   ],
   "source": [
    "all_words.keys()"
   ]
  },
  {
   "cell_type": "code",
   "execution_count": null,
   "metadata": {
    "collapsed": true
   },
   "outputs": [],
   "source": []
  }
 ],
 "metadata": {
  "kernelspec": {
   "display_name": "Python 3",
   "language": "python",
   "name": "python3"
  },
  "language_info": {
   "codemirror_mode": {
    "name": "ipython",
    "version": 3
   },
   "file_extension": ".py",
   "mimetype": "text/x-python",
   "name": "python",
   "nbconvert_exporter": "python",
   "pygments_lexer": "ipython3",
   "version": "3.5.1"
  }
 },
 "nbformat": 4,
 "nbformat_minor": 0
}
